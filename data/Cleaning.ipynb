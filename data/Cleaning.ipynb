{
 "cells": [
  {
   "cell_type": "code",
   "execution_count": 40,
   "metadata": {},
   "outputs": [],
   "source": [
    "import pandas as pd\n",
    "\n",
    "xls_file = pd.read_excel('srd2014\\RUNDATA.xls')\n",
    "\n",
    "df = pd.DataFrame(xls_file)"
   ]
  },
  {
   "attachments": {},
   "cell_type": "markdown",
   "metadata": {},
   "source": [
    "Example of filtering for a particular inscription"
   ]
  },
  {
   "cell_type": "code",
   "execution_count": 41,
   "metadata": {},
   "outputs": [],
   "source": [
    "df[df['Signum'].str.contains('Ög 154')]\n",
    "\n",
    "sigs = df['Signum'].values"
   ]
  },
  {
   "attachments": {},
   "cell_type": "markdown",
   "metadata": {},
   "source": [
    "In order to create tables with rundata_ids, we have to separate the ID from the runic text in each of the RUNDATA files"
   ]
  },
  {
   "cell_type": "code",
   "execution_count": 33,
   "metadata": {},
   "outputs": [],
   "source": [
    "def get_table_from_text(file_name):\n",
    "    with open(\"srd2014\\{}\".format(file_name), \"r\", encoding='iso-8859-1') as f:\n",
    "        lines = f.readlines()\n",
    "\n",
    "    df = pd.DataFrame(columns=['Signum', 'Text'])\n",
    "\n",
    "    for line in lines:\n",
    "        for signum in sigs:\n",
    "            if line.find(signum) != -1:\n",
    "                parts = line.split(signum)\n",
    "                df = df.append({'Signum': signum, 'Text': parts[1]}, ignore_index=True)\n",
    "\n",
    "    return df\n",
    "        \n",
    "runtext_df = get_table_from_text('RUNTEXT')\n",
    "english_df = get_table_from_text('ENGLISH')\n"
   ]
  },
  {
   "attachments": {},
   "cell_type": "markdown",
   "metadata": {},
   "source": [
    "Now that we have our separated texts, lets insert them into database tables accordingly"
   ]
  },
  {
   "cell_type": "code",
   "execution_count": 39,
   "metadata": {},
   "outputs": [],
   "source": [
    "import psycopg2\n",
    "\n",
    "conn = psycopg2.connect(\n",
    "    host=\"localhost\",\n",
    "    database=\"rundata\",\n",
    "    user=\"user\",\n",
    "    password=\"pass\"\n",
    ")\n",
    "\n",
    "cur = conn.cursor()\n",
    "\n",
    "\n",
    "def create_core_table():\n",
    "    cur.execute(\"DROP TABLE IF EXISTS inscription\")\n",
    "    cur.execute(\"\"\"\n",
    "        CREATE TABLE inscription (\n",
    "            rundata_id text primary key,\n",
    "            coordinates text ,\n",
    "            material text\n",
    "    )\n",
    "    \"\"\")\n",
    "\n",
    "    for i, row in df.iterrows():\n",
    "        cur.execute(\"INSERT INTO inscription (rundata_id, coordinates, material) VALUES(%s, %s, %s)\", (row['Signum'], row['Koordinater'], row['Material']))\n",
    "    conn.commit()\n",
    "\n",
    "def create_rundata_table(name, df):\n",
    "    cur.execute(\"DROP TABLE IF EXISTS rundata_{}\".format(name))\n",
    "    cur.execute(\"\"\"\n",
    "        CREATE TABLE rundata_{} (\n",
    "            rundata_id text,\n",
    "            text text\n",
    "    )\n",
    "    \"\"\".format(name))\n",
    "\n",
    "    for i, row in df.iterrows():\n",
    "        cur.execute(\"INSERT INTO rundata_{} (rundata_id, text) VALUES(%s, %s)\".format(name), (row['Signum'], row['Text']))\n",
    "    conn.commit()\n",
    "\n",
    "create_core_table()\n",
    "create_rundata_table('english', english_df)\n",
    "create_rundata_table('runtext', runtext_df)\n",
    "\n",
    "cur.close()\n",
    "conn.close()"
   ]
  },
  {
   "cell_type": "code",
   "execution_count": null,
   "metadata": {},
   "outputs": [],
   "source": []
  }
 ],
 "metadata": {
  "kernelspec": {
   "display_name": "base",
   "language": "python",
   "name": "python3"
  },
  "language_info": {
   "codemirror_mode": {
    "name": "ipython",
    "version": 3
   },
   "file_extension": ".py",
   "mimetype": "text/x-python",
   "name": "python",
   "nbconvert_exporter": "python",
   "pygments_lexer": "ipython3",
   "version": "3.9.7"
  },
  "orig_nbformat": 4,
  "vscode": {
   "interpreter": {
    "hash": "c0714efff5bb5fc17a0cc5ca29110cdf13718d416d3068d4cd0fd233edc869c8"
   }
  }
 },
 "nbformat": 4,
 "nbformat_minor": 2
}
